{
 "cells": [
  {
   "cell_type": "markdown",
   "metadata": {},
   "source": [
    "# Simple parallel computing in python\n",
    "#### Often times model analysis relies on iterating through for loops. When the number of loops is large, or when each loop takes a while, these processes become slow. By leveraging parallel analysis, we can speed up these processes and accelerate discovery. Below, I will walk through a simple example using [Joblib](https://joblib.readthedocs.io/en/latest/index.html). \n",
    "\n",
    "#### This example is built off those found under [Joblib examples](https://joblib.readthedocs.io/en/latest/auto_examples/nested_parallel_memory.html#sphx-glr-auto-examples-nested-parallel-memory-py).\n",
    "\n",
    "#### Import the necessary python libraries"
   ]
  },
  {
   "cell_type": "code",
   "execution_count": 3,
   "metadata": {},
   "outputs": [],
   "source": [
    "from joblib import Parallel, delayed, memory\n",
    "import time\n",
    "import numpy as np"
   ]
  },
  {
   "cell_type": "markdown",
   "metadata": {},
   "source": [
    "## Example 1 - Computing the mean of each column in a very large array\n",
    "#### First, define a function to calculate the mean of an array column. To simulate a computationally expensive task (eg. calculating the monthly mean of a climate model data set) I force the function to pause for 0.01 seconds durring each function call."
   ]
  },
  {
   "cell_type": "code",
   "execution_count": 4,
   "metadata": {},
   "outputs": [],
   "source": [
    "def calc_column_mean(data, column):\n",
    "    time.sleep(.01)\n",
    "    return data[:,column].mean()"
   ]
  },
  {
   "cell_type": "markdown",
   "metadata": {},
   "source": [
    "#### Next, create a large data array"
   ]
  },
  {
   "cell_type": "code",
   "execution_count": 5,
   "metadata": {},
   "outputs": [],
   "source": [
    "# 100 row, 1000 column array of random number between 0 and 1.\n",
    "data = np.random.rand(100, 1000)"
   ]
  },
  {
   "cell_type": "markdown",
   "metadata": {},
   "source": [
    "#### 1 processer (no parallelization)."
   ]
  },
  {
   "cell_type": "code",
   "execution_count": 6,
   "metadata": {},
   "outputs": [
    {
     "name": "stdout",
     "output_type": "stream",
     "text": [
      "1 Processor\n",
      "Elapsed computation tiem: 10.07 s\n"
     ]
    }
   ],
   "source": [
    "start = time.time()\n",
    "column_means = [calc_column_mean(data, column) for column in range(data.shape[1])]\n",
    "stop = time.time()\n",
    "\n",
    "print('1 Processor')\n",
    "print('Elapsed computation tiem: {:.2f} s'\n",
    "      .format(stop - start))"
   ]
  },
  {
   "cell_type": "markdown",
   "metadata": {},
   "source": [
    "#### 2 processers (Parallelized)."
   ]
  },
  {
   "cell_type": "code",
   "execution_count": 7,
   "metadata": {},
   "outputs": [
    {
     "name": "stdout",
     "output_type": "stream",
     "text": [
      "2 Processors\n",
      "Elapsed computation tiem: 5.46 s\n"
     ]
    }
   ],
   "source": [
    "start = time.time()\n",
    "column_means = Parallel(n_jobs=2)(delayed(calc_column_mean)(data, col) for col in range(data.shape[1]))\n",
    "stop = time.time()\n",
    "\n",
    "print('2 Processors')\n",
    "print('Elapsed computation tiem: {:.2f} s'\n",
    "      .format(stop - start))"
   ]
  },
  {
   "cell_type": "markdown",
   "metadata": {},
   "source": [
    "#### 10 processers (Parallelized)."
   ]
  },
  {
   "cell_type": "code",
   "execution_count": 8,
   "metadata": {},
   "outputs": [
    {
     "name": "stdout",
     "output_type": "stream",
     "text": [
      "2 Processors\n",
      "Elapsed computation tiem: 1.75 s\n"
     ]
    }
   ],
   "source": [
    "start = time.time()\n",
    "column_means = Parallel(n_jobs=10)(delayed(calc_column_mean)(data, col) for col in range(data.shape[1]))\n",
    "stop = time.time()\n",
    "\n",
    "print('2 Processors')\n",
    "print('Elapsed computation tiem: {:.2f} s'\n",
    "      .format(stop - start))"
   ]
  },
  {
   "cell_type": "markdown",
   "metadata": {},
   "source": [
    "## Conclusion\n",
    "#### We have reduced the time required from approximately 10 seconds to 2 seconds to calculate the same thing by employing a parallel analysis architecture. This is about as simple of scheme as possible. Much more sophistication exists, should you like or need. "
   ]
  }
 ],
 "metadata": {
  "kernelspec": {
   "display_name": "Python 3",
   "language": "python",
   "name": "python3"
  },
  "language_info": {
   "codemirror_mode": {
    "name": "ipython",
    "version": 3
   },
   "file_extension": ".py",
   "mimetype": "text/x-python",
   "name": "python",
   "nbconvert_exporter": "python",
   "pygments_lexer": "ipython3",
   "version": "3.6.7"
  }
 },
 "nbformat": 4,
 "nbformat_minor": 2
}
